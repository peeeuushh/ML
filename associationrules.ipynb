{
 "cells": [
  {
   "cell_type": "code",
   "execution_count": 1,
   "metadata": {},
   "outputs": [],
   "source": [
    "from mlxtend.preprocessing import TransactionEncoder\n",
    "from mlxtend.frequent_patterns import apriori,association_rules\n",
    "import pandas as pd"
   ]
  },
  {
   "cell_type": "code",
   "execution_count": 2,
   "metadata": {},
   "outputs": [],
   "source": [
    "transaction=[['accessories','bike','clothing','car'],\n",
    "             ['bike','clothing','shoes','grape'],\n",
    "             ['accessories','bike','clothing','shoes'],\n",
    "             ['accessories','clothing','car','shoes'],\n",
    "             ['bike','clothing','car','shoes']]"
   ]
  },
  {
   "cell_type": "code",
   "execution_count": 3,
   "metadata": {},
   "outputs": [
    {
     "name": "stdout",
     "output_type": "stream",
     "text": [
      "[[ True  True  True  True False False]\n",
      " [False  True False  True  True  True]\n",
      " [ True  True False  True False  True]\n",
      " [ True False  True  True False  True]\n",
      " [False  True  True  True False  True]]\n"
     ]
    }
   ],
   "source": [
    "te=TransactionEncoder()\n",
    "te_ary=te.fit(transaction).transform(transaction)\n",
    "print(te_ary)"
   ]
  },
  {
   "cell_type": "code",
   "execution_count": 4,
   "metadata": {},
   "outputs": [
    {
     "name": "stdout",
     "output_type": "stream",
     "text": [
      "    support                        itemsets\n",
      "0       0.6                   (accessories)\n",
      "1       0.8                          (bike)\n",
      "2       0.6                           (car)\n",
      "3       1.0                      (clothing)\n",
      "4       0.8                         (shoes)\n",
      "5       0.4             (accessories, bike)\n",
      "6       0.4              (car, accessories)\n",
      "7       0.6         (accessories, clothing)\n",
      "8       0.4            (accessories, shoes)\n",
      "9       0.4                     (car, bike)\n",
      "10      0.8                (clothing, bike)\n",
      "11      0.6                   (shoes, bike)\n",
      "12      0.6                 (car, clothing)\n",
      "13      0.4                    (car, shoes)\n",
      "14      0.8               (shoes, clothing)\n",
      "15      0.4   (accessories, clothing, bike)\n",
      "16      0.4    (car, accessories, clothing)\n",
      "17      0.4  (accessories, shoes, clothing)\n",
      "18      0.4           (car, clothing, bike)\n",
      "19      0.6         (shoes, clothing, bike)\n",
      "20      0.4          (car, shoes, clothing)\n",
      "             antecedents        consequents  antecedent support  \\\n",
      "0          (accessories)         (clothing)                 0.6   \n",
      "1             (clothing)             (bike)                 1.0   \n",
      "2                 (bike)         (clothing)                 0.8   \n",
      "3                (shoes)             (bike)                 0.8   \n",
      "4                 (bike)            (shoes)                 0.8   \n",
      "5                  (car)         (clothing)                 0.6   \n",
      "6                (shoes)         (clothing)                 0.8   \n",
      "7             (clothing)            (shoes)                 1.0   \n",
      "8    (accessories, bike)         (clothing)                 0.4   \n",
      "9     (car, accessories)         (clothing)                 0.4   \n",
      "10  (accessories, shoes)         (clothing)                 0.4   \n",
      "11           (car, bike)         (clothing)                 0.4   \n",
      "12     (clothing, shoes)             (bike)                 0.8   \n",
      "13         (shoes, bike)         (clothing)                 0.6   \n",
      "14      (clothing, bike)            (shoes)                 0.8   \n",
      "15               (shoes)   (clothing, bike)                 0.8   \n",
      "16                (bike)  (clothing, shoes)                 0.8   \n",
      "17          (car, shoes)         (clothing)                 0.4   \n",
      "\n",
      "    consequent support  support  confidence    lift  leverage  conviction  \\\n",
      "0                  1.0      0.6        1.00  1.0000      0.00         inf   \n",
      "1                  0.8      0.8        0.80  1.0000      0.00         1.0   \n",
      "2                  1.0      0.8        1.00  1.0000      0.00         inf   \n",
      "3                  0.8      0.6        0.75  0.9375     -0.04         0.8   \n",
      "4                  0.8      0.6        0.75  0.9375     -0.04         0.8   \n",
      "5                  1.0      0.6        1.00  1.0000      0.00         inf   \n",
      "6                  1.0      0.8        1.00  1.0000      0.00         inf   \n",
      "7                  0.8      0.8        0.80  1.0000      0.00         1.0   \n",
      "8                  1.0      0.4        1.00  1.0000      0.00         inf   \n",
      "9                  1.0      0.4        1.00  1.0000      0.00         inf   \n",
      "10                 1.0      0.4        1.00  1.0000      0.00         inf   \n",
      "11                 1.0      0.4        1.00  1.0000      0.00         inf   \n",
      "12                 0.8      0.6        0.75  0.9375     -0.04         0.8   \n",
      "13                 1.0      0.6        1.00  1.0000      0.00         inf   \n",
      "14                 0.8      0.6        0.75  0.9375     -0.04         0.8   \n",
      "15                 0.8      0.6        0.75  0.9375     -0.04         0.8   \n",
      "16                 0.8      0.6        0.75  0.9375     -0.04         0.8   \n",
      "17                 1.0      0.4        1.00  1.0000      0.00         inf   \n",
      "\n",
      "    zhangs_metric  \n",
      "0            0.00  \n",
      "1            0.00  \n",
      "2            0.00  \n",
      "3           -0.25  \n",
      "4           -0.25  \n",
      "5            0.00  \n",
      "6            0.00  \n",
      "7            0.00  \n",
      "8            0.00  \n",
      "9            0.00  \n",
      "10           0.00  \n",
      "11           0.00  \n",
      "12          -0.25  \n",
      "13           0.00  \n",
      "14          -0.25  \n",
      "15          -0.25  \n",
      "16          -0.25  \n",
      "17           0.00  \n"
     ]
    }
   ],
   "source": [
    "df=pd.DataFrame(te_ary,columns=te.columns_)\n",
    "\n",
    "frequent_itemsets=apriori(df,min_support=0.3,use_colnames=True)\n",
    "\n",
    "rules=association_rules(frequent_itemsets,metric=\"confidence\",min_threshold=0.7)\n",
    "\n",
    "print(frequent_itemsets)\n",
    "\n",
    "print(rules)"
   ]
  },
  {
   "cell_type": "code",
   "execution_count": 5,
   "metadata": {},
   "outputs": [
    {
     "ename": "SyntaxError",
     "evalue": "expression expected after dictionary key and ':' (2761829865.py, line 2)",
     "output_type": "error",
     "traceback": [
      "\u001b[1;36m  Cell \u001b[1;32mIn[5], line 2\u001b[1;36m\u001b[0m\n\u001b[1;33m    d={\"Tid\":}\u001b[0m\n\u001b[1;37m            ^\u001b[0m\n\u001b[1;31mSyntaxError\u001b[0m\u001b[1;31m:\u001b[0m expression expected after dictionary key and ':'\n"
     ]
    }
   ],
   "source": [
    "import pandas as pd\n",
    "d={\"Tid\":}"
   ]
  }
 ],
 "metadata": {
  "kernelspec": {
   "display_name": "Python 3 (ipykernel)",
   "language": "python",
   "name": "python3"
  },
  "language_info": {
   "codemirror_mode": {
    "name": "ipython",
    "version": 3
   },
   "file_extension": ".py",
   "mimetype": "text/x-python",
   "name": "python",
   "nbconvert_exporter": "python",
   "pygments_lexer": "ipython3",
   "version": "0.0.0"
  }
 },
 "nbformat": 4,
 "nbformat_minor": 2
}
