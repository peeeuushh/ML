{
 "cells": [
  {
   "cell_type": "code",
   "execution_count": 228,
   "metadata": {},
   "outputs": [],
   "source": [
    "f = open('data.json')"
   ]
  },
  {
   "cell_type": "code",
   "execution_count": 229,
   "metadata": {},
   "outputs": [],
   "source": [
    "import json\n",
    "import pandas as pd"
   ]
  },
  {
   "cell_type": "code",
   "execution_count": 230,
   "metadata": {},
   "outputs": [],
   "source": [
    "data=json.load(f)"
   ]
  },
  {
   "cell_type": "code",
   "execution_count": 231,
   "metadata": {},
   "outputs": [],
   "source": [
    "df=pd.DataFrame(data)"
   ]
  },
  {
   "cell_type": "code",
   "execution_count": 232,
   "metadata": {},
   "outputs": [
    {
     "data": {
      "text/html": [
       "<div>\n",
       "<style scoped>\n",
       "    .dataframe tbody tr th:only-of-type {\n",
       "        vertical-align: middle;\n",
       "    }\n",
       "\n",
       "    .dataframe tbody tr th {\n",
       "        vertical-align: top;\n",
       "    }\n",
       "\n",
       "    .dataframe thead th {\n",
       "        text-align: right;\n",
       "    }\n",
       "</style>\n",
       "<table border=\"1\" class=\"dataframe\">\n",
       "  <thead>\n",
       "    <tr style=\"text-align: right;\">\n",
       "      <th></th>\n",
       "      <th>took</th>\n",
       "      <th>timed_out</th>\n",
       "      <th>_shards</th>\n",
       "      <th>hits</th>\n",
       "      <th>aggregations</th>\n",
       "    </tr>\n",
       "  </thead>\n",
       "  <tbody>\n",
       "    <tr>\n",
       "      <th>total</th>\n",
       "      <td>198</td>\n",
       "      <td>False</td>\n",
       "      <td>12.0</td>\n",
       "      <td>{'value': 80, 'relation': 'eq'}</td>\n",
       "      <td>NaN</td>\n",
       "    </tr>\n",
       "    <tr>\n",
       "      <th>successful</th>\n",
       "      <td>198</td>\n",
       "      <td>False</td>\n",
       "      <td>12.0</td>\n",
       "      <td>NaN</td>\n",
       "      <td>NaN</td>\n",
       "    </tr>\n",
       "    <tr>\n",
       "      <th>skipped</th>\n",
       "      <td>198</td>\n",
       "      <td>False</td>\n",
       "      <td>9.0</td>\n",
       "      <td>NaN</td>\n",
       "      <td>NaN</td>\n",
       "    </tr>\n",
       "    <tr>\n",
       "      <th>failed</th>\n",
       "      <td>198</td>\n",
       "      <td>False</td>\n",
       "      <td>0.0</td>\n",
       "      <td>NaN</td>\n",
       "      <td>NaN</td>\n",
       "    </tr>\n",
       "    <tr>\n",
       "      <th>max_score</th>\n",
       "      <td>198</td>\n",
       "      <td>False</td>\n",
       "      <td>NaN</td>\n",
       "      <td>None</td>\n",
       "      <td>NaN</td>\n",
       "    </tr>\n",
       "    <tr>\n",
       "      <th>hits</th>\n",
       "      <td>198</td>\n",
       "      <td>False</td>\n",
       "      <td>NaN</td>\n",
       "      <td>[{'_index': '.ds-processstream-000005', '_type...</td>\n",
       "      <td>NaN</td>\n",
       "    </tr>\n",
       "    <tr>\n",
       "      <th>2</th>\n",
       "      <td>198</td>\n",
       "      <td>False</td>\n",
       "      <td>NaN</td>\n",
       "      <td>NaN</td>\n",
       "      <td>{'buckets': [{'key_as_string': '2023-10-22T02:...</td>\n",
       "    </tr>\n",
       "  </tbody>\n",
       "</table>\n",
       "</div>"
      ],
      "text/plain": [
       "            took  timed_out  _shards  \\\n",
       "total        198      False     12.0   \n",
       "successful   198      False     12.0   \n",
       "skipped      198      False      9.0   \n",
       "failed       198      False      0.0   \n",
       "max_score    198      False      NaN   \n",
       "hits         198      False      NaN   \n",
       "2            198      False      NaN   \n",
       "\n",
       "                                                         hits  \\\n",
       "total                         {'value': 80, 'relation': 'eq'}   \n",
       "successful                                                NaN   \n",
       "skipped                                                   NaN   \n",
       "failed                                                    NaN   \n",
       "max_score                                                None   \n",
       "hits        [{'_index': '.ds-processstream-000005', '_type...   \n",
       "2                                                         NaN   \n",
       "\n",
       "                                                 aggregations  \n",
       "total                                                     NaN  \n",
       "successful                                                NaN  \n",
       "skipped                                                   NaN  \n",
       "failed                                                    NaN  \n",
       "max_score                                                 NaN  \n",
       "hits                                                      NaN  \n",
       "2           {'buckets': [{'key_as_string': '2023-10-22T02:...  "
      ]
     },
     "execution_count": 232,
     "metadata": {},
     "output_type": "execute_result"
    }
   ],
   "source": [
    "df"
   ]
  },
  {
   "cell_type": "code",
   "execution_count": 233,
   "metadata": {},
   "outputs": [
    {
     "data": {
      "text/plain": [
       "[{'_index': '.ds-processstream-000005',\n",
       "  '_type': '_doc',\n",
       "  '_id': 'Lz4dVYsB2mxSHAcnIofX',\n",
       "  '_version': 1,\n",
       "  '_score': None,\n",
       "  '_source': {'lastPolledAt': '2023-10-22T02:00:51Z',\n",
       "   'cpuUtilization(%)': 0.01,\n",
       "   'runByUser': None,\n",
       "   'processName': 'csrss',\n",
       "   'processID': 608,\n",
       "   'processStartTime': '2023-10-22T01:02:18Z',\n",
       "   'virtualMemorySize(in MB)': 667.66015625,\n",
       "   'memoryUtilization(%)': 0,\n",
       "   'ciName': 'AWNCK006',\n",
       "   'toolOrgId': '2001',\n",
       "   'organizationId': '1408158',\n",
       "   'source': 'Solarwinds'},\n",
       "  'fields': {'processStartTime': ['2023-10-22T01:02:18.000Z'],\n",
       "   'lastPolledAt': ['2023-10-22T02:00:51.000Z']},\n",
       "  'highlight': {'ciName': ['@opensearch-dashboards-highlighted-field@AWNCK006@/opensearch-dashboards-highlighted-field@']},\n",
       "  'sort': [1697940051000]},\n",
       " {'_index': '.ds-processstream-000005',\n",
       "  '_type': '_doc',\n",
       "  '_id': 'MT4dVYsB2mxSHAcnIofX',\n",
       "  '_version': 1,\n",
       "  '_score': None,\n",
       "  '_source': {'lastPolledAt': '2023-10-22T02:00:51Z',\n",
       "   'cpuUtilization(%)': 0.01,\n",
       "   'runByUser': None,\n",
       "   'processName': 'dcondemand',\n",
       "   'processID': 7032,\n",
       "   'processStartTime': '2023-10-22T01:02:52Z',\n",
       "   'virtualMemorySize(in MB)': 118.19921875,\n",
       "   'memoryUtilization(%)': 0.58,\n",
       "   'ciName': 'AWNCK006',\n",
       "   'toolOrgId': '2001',\n",
       "   'organizationId': '1408158',\n",
       "   'source': 'Solarwinds'},\n",
       "  'fields': {'processStartTime': ['2023-10-22T01:02:52.000Z'],\n",
       "   'lastPolledAt': ['2023-10-22T02:00:51.000Z']},\n",
       "  'highlight': {'ciName': ['@opensearch-dashboards-highlighted-field@AWNCK006@/opensearch-dashboards-highlighted-field@']},\n",
       "  'sort': [1697940051000]},\n",
       " {'_index': '.ds-processstream-000005',\n",
       "  '_type': '_doc',\n",
       "  '_id': 'Mz4dVYsB2mxSHAcnIofX',\n",
       "  '_version': 1,\n",
       "  '_score': None,\n",
       "  '_source': {'lastPolledAt': '2023-10-22T02:00:51Z',\n",
       "   'cpuUtilization(%)': 0,\n",
       "   'runByUser': None,\n",
       "   'processName': 'Idle',\n",
       "   'processID': 0,\n",
       "   'processStartTime': '2023-10-22T01:02:20Z',\n",
       "   'virtualMemorySize(in MB)': 0.0625,\n",
       "   'memoryUtilization(%)': 0,\n",
       "   'ciName': 'AWNCK006',\n",
       "   'toolOrgId': '2001',\n",
       "   'organizationId': '1408158',\n",
       "   'source': 'Solarwinds'},\n",
       "  'fields': {'processStartTime': ['2023-10-22T01:02:20.000Z'],\n",
       "   'lastPolledAt': ['2023-10-22T02:00:51.000Z']},\n",
       "  'highlight': {'ciName': ['@opensearch-dashboards-highlighted-field@AWNCK006@/opensearch-dashboards-highlighted-field@']},\n",
       "  'sort': [1697940051000]},\n",
       " {'_index': '.ds-processstream-000005',\n",
       "  '_type': '_doc',\n",
       "  '_id': 'Oj4dVYsB2mxSHAcnIofX',\n",
       "  '_version': 1,\n",
       "  '_score': None,\n",
       "  '_source': {'lastPolledAt': '2023-10-22T02:00:51Z',\n",
       "   'cpuUtilization(%)': 0.02,\n",
       "   'runByUser': None,\n",
       "   'processName': 'macompatsvc',\n",
       "   'processID': 328,\n",
       "   'processStartTime': '2023-10-22T01:02:59Z',\n",
       "   'virtualMemorySize(in MB)': 92.48046875,\n",
       "   'memoryUtilization(%)': 0.36,\n",
       "   'ciName': 'AWNCK006',\n",
       "   'toolOrgId': '2001',\n",
       "   'organizationId': '1408158',\n",
       "   'source': 'Solarwinds'},\n",
       "  'fields': {'processStartTime': ['2023-10-22T01:02:59.000Z'],\n",
       "   'lastPolledAt': ['2023-10-22T02:00:51.000Z']},\n",
       "  'highlight': {'ciName': ['@opensearch-dashboards-highlighted-field@AWNCK006@/opensearch-dashboards-highlighted-field@']},\n",
       "  'sort': [1697940051000]},\n",
       " {'_index': '.ds-processstream-000005',\n",
       "  '_type': '_doc',\n",
       "  '_id': 'Oz4dVYsB2mxSHAcnIofX',\n",
       "  '_version': 1,\n",
       "  '_score': None,\n",
       "  '_source': {'lastPolledAt': '2023-10-22T02:00:51Z',\n",
       "   'cpuUtilization(%)': 0.1,\n",
       "   'runByUser': None,\n",
       "   'processName': 'masvc',\n",
       "   'processID': 1988,\n",
       "   'processStartTime': '2023-10-22T01:02:21Z',\n",
       "   'virtualMemorySize(in MB)': 92.48046875,\n",
       "   'memoryUtilization(%)': 0,\n",
       "   'ciName': 'AWNCK006',\n",
       "   'toolOrgId': '2001',\n",
       "   'organizationId': '1408158',\n",
       "   'source': 'Solarwinds'},\n",
       "  'fields': {'processStartTime': ['2023-10-22T01:02:21.000Z'],\n",
       "   'lastPolledAt': ['2023-10-22T02:00:51.000Z']},\n",
       "  'highlight': {'ciName': ['@opensearch-dashboards-highlighted-field@AWNCK006@/opensearch-dashboards-highlighted-field@']},\n",
       "  'sort': [1697940051000]},\n",
       " {'_index': '.ds-processstream-000005',\n",
       "  '_type': '_doc',\n",
       "  '_id': 'PT4dVYsB2mxSHAcnIofX',\n",
       "  '_version': 1,\n",
       "  '_score': None,\n",
       "  '_source': {'lastPolledAt': '2023-10-22T02:00:51Z',\n",
       "   'cpuUtilization(%)': 0.14,\n",
       "   'runByUser': None,\n",
       "   'processName': 'mfeesp',\n",
       "   'processID': 6880,\n",
       "   'processStartTime': '2023-10-22T01:02:49Z',\n",
       "   'virtualMemorySize(in MB)': 92.48046875,\n",
       "   'memoryUtilization(%)': 0,\n",
       "   'ciName': 'AWNCK006',\n",
       "   'toolOrgId': '2001',\n",
       "   'organizationId': '1408158',\n",
       "   'source': 'Solarwinds'},\n",
       "  'fields': {'processStartTime': ['2023-10-22T01:02:49.000Z'],\n",
       "   'lastPolledAt': ['2023-10-22T02:00:51.000Z']},\n",
       "  'highlight': {'ciName': ['@opensearch-dashboards-highlighted-field@AWNCK006@/opensearch-dashboards-highlighted-field@']},\n",
       "  'sort': [1697940051000]},\n",
       " {'_index': '.ds-processstream-000005',\n",
       "  '_type': '_doc',\n",
       "  '_id': 'Pz4dVYsB2mxSHAcnIofX',\n",
       "  '_version': 1,\n",
       "  '_score': None,\n",
       "  '_source': {'lastPolledAt': '2023-10-22T02:00:51Z',\n",
       "   'cpuUtilization(%)': 0.01,\n",
       "   'runByUser': None,\n",
       "   'processName': 'mfehcs',\n",
       "   'processID': 7040,\n",
       "   'processStartTime': '2023-10-22T01:02:52Z',\n",
       "   'virtualMemorySize(in MB)': 48.46484375,\n",
       "   'memoryUtilization(%)': 0.18,\n",
       "   'ciName': 'AWNCK006',\n",
       "   'toolOrgId': '2001',\n",
       "   'organizationId': '1408158',\n",
       "   'source': 'Solarwinds'},\n",
       "  'fields': {'processStartTime': ['2023-10-22T01:02:52.000Z'],\n",
       "   'lastPolledAt': ['2023-10-22T02:00:51.000Z']},\n",
       "  'highlight': {'ciName': ['@opensearch-dashboards-highlighted-field@AWNCK006@/opensearch-dashboards-highlighted-field@']},\n",
       "  'sort': [1697940051000]},\n",
       " {'_index': '.ds-processstream-000005',\n",
       "  '_type': '_doc',\n",
       "  '_id': 'QD4dVYsB2mxSHAcnIofX',\n",
       "  '_version': 1,\n",
       "  '_score': None,\n",
       "  '_source': {'lastPolledAt': '2023-10-22T02:00:51Z',\n",
       "   'cpuUtilization(%)': 0.02,\n",
       "   'runByUser': None,\n",
       "   'processName': 'mfemactl',\n",
       "   'processID': 6128,\n",
       "   'processStartTime': '2023-10-22T01:03:07Z',\n",
       "   'virtualMemorySize(in MB)': 107.01953125,\n",
       "   'memoryUtilization(%)': 0.28,\n",
       "   'ciName': 'AWNCK006',\n",
       "   'toolOrgId': '2001',\n",
       "   'organizationId': '1408158',\n",
       "   'source': 'Solarwinds'},\n",
       "  'fields': {'processStartTime': ['2023-10-22T01:03:07.000Z'],\n",
       "   'lastPolledAt': ['2023-10-22T02:00:51.000Z']},\n",
       "  'highlight': {'ciName': ['@opensearch-dashboards-highlighted-field@AWNCK006@/opensearch-dashboards-highlighted-field@']},\n",
       "  'sort': [1697940051000]},\n",
       " {'_index': '.ds-processstream-000005',\n",
       "  '_type': '_doc',\n",
       "  '_id': 'Qj4dVYsB2mxSHAcnIofX',\n",
       "  '_version': 1,\n",
       "  '_score': None,\n",
       "  '_source': {'lastPolledAt': '2023-10-22T02:00:51Z',\n",
       "   'cpuUtilization(%)': 0.66,\n",
       "   'runByUser': None,\n",
       "   'processName': 'mfetp',\n",
       "   'processID': 6408,\n",
       "   'processStartTime': '2023-10-22T01:02:55Z',\n",
       "   'virtualMemorySize(in MB)': 77.91796875,\n",
       "   'memoryUtilization(%)': 0,\n",
       "   'ciName': 'AWNCK006',\n",
       "   'toolOrgId': '2001',\n",
       "   'organizationId': '1408158',\n",
       "   'source': 'Solarwinds'},\n",
       "  'fields': {'processStartTime': ['2023-10-22T01:02:55.000Z'],\n",
       "   'lastPolledAt': ['2023-10-22T02:00:51.000Z']},\n",
       "  'highlight': {'ciName': ['@opensearch-dashboards-highlighted-field@AWNCK006@/opensearch-dashboards-highlighted-field@']},\n",
       "  'sort': [1697940051000]},\n",
       " {'_index': '.ds-processstream-000005',\n",
       "  '_type': '_doc',\n",
       "  '_id': 'Qz4dVYsB2mxSHAcnIofX',\n",
       "  '_version': 1,\n",
       "  '_score': None,\n",
       "  '_source': {'lastPolledAt': '2023-10-22T02:00:51Z',\n",
       "   'cpuUtilization(%)': 0.34,\n",
       "   'runByUser': None,\n",
       "   'processName': 'mfevtps',\n",
       "   'processID': 6520,\n",
       "   'processStartTime': '2023-10-22T01:02:44Z',\n",
       "   'virtualMemorySize(in MB)': 57.7421875,\n",
       "   'memoryUtilization(%)': 0.27,\n",
       "   'ciName': 'AWNCK006',\n",
       "   'toolOrgId': '2001',\n",
       "   'organizationId': '1408158',\n",
       "   'source': 'Solarwinds'},\n",
       "  'fields': {'processStartTime': ['2023-10-22T01:02:44.000Z'],\n",
       "   'lastPolledAt': ['2023-10-22T02:00:51.000Z']},\n",
       "  'highlight': {'ciName': ['@opensearch-dashboards-highlighted-field@AWNCK006@/opensearch-dashboards-highlighted-field@']},\n",
       "  'sort': [1697940051000]}]"
      ]
     },
     "execution_count": 233,
     "metadata": {},
     "output_type": "execute_result"
    }
   ],
   "source": [
    "d = data['hits']['hits']\n",
    "d"
   ]
  },
  {
   "cell_type": "code",
   "execution_count": 234,
   "metadata": {},
   "outputs": [],
   "source": [
    "new_data=[]\n",
    "for i in d:\n",
    "    i=i['_source']\n",
    "    new_data.append({'cpuUtil':i['cpuUtilization(%)'],\n",
    "                 'Time':i['processStartTime']\n",
    "                   })"
   ]
  },
  {
   "cell_type": "code",
   "execution_count": 235,
   "metadata": {},
   "outputs": [],
   "source": [
    "df=pd.DataFrame(new_data)"
   ]
  },
  {
   "cell_type": "code",
   "execution_count": 236,
   "metadata": {},
   "outputs": [
    {
     "data": {
      "text/html": [
       "<div>\n",
       "<style scoped>\n",
       "    .dataframe tbody tr th:only-of-type {\n",
       "        vertical-align: middle;\n",
       "    }\n",
       "\n",
       "    .dataframe tbody tr th {\n",
       "        vertical-align: top;\n",
       "    }\n",
       "\n",
       "    .dataframe thead th {\n",
       "        text-align: right;\n",
       "    }\n",
       "</style>\n",
       "<table border=\"1\" class=\"dataframe\">\n",
       "  <thead>\n",
       "    <tr style=\"text-align: right;\">\n",
       "      <th></th>\n",
       "      <th>cpuUtil</th>\n",
       "      <th>Time</th>\n",
       "    </tr>\n",
       "  </thead>\n",
       "  <tbody>\n",
       "    <tr>\n",
       "      <th>0</th>\n",
       "      <td>0.01</td>\n",
       "      <td>2023-10-22 01:02:18</td>\n",
       "    </tr>\n",
       "    <tr>\n",
       "      <th>1</th>\n",
       "      <td>0.01</td>\n",
       "      <td>2023-10-22 01:02:52</td>\n",
       "    </tr>\n",
       "    <tr>\n",
       "      <th>2</th>\n",
       "      <td>0.00</td>\n",
       "      <td>2023-10-22 01:02:20</td>\n",
       "    </tr>\n",
       "    <tr>\n",
       "      <th>3</th>\n",
       "      <td>0.02</td>\n",
       "      <td>2023-10-22 01:02:59</td>\n",
       "    </tr>\n",
       "    <tr>\n",
       "      <th>4</th>\n",
       "      <td>0.10</td>\n",
       "      <td>2023-10-22 01:02:21</td>\n",
       "    </tr>\n",
       "    <tr>\n",
       "      <th>5</th>\n",
       "      <td>0.14</td>\n",
       "      <td>2023-10-22 01:02:49</td>\n",
       "    </tr>\n",
       "    <tr>\n",
       "      <th>6</th>\n",
       "      <td>0.01</td>\n",
       "      <td>2023-10-22 01:02:52</td>\n",
       "    </tr>\n",
       "    <tr>\n",
       "      <th>7</th>\n",
       "      <td>0.02</td>\n",
       "      <td>2023-10-22 01:03:07</td>\n",
       "    </tr>\n",
       "    <tr>\n",
       "      <th>8</th>\n",
       "      <td>0.66</td>\n",
       "      <td>2023-10-22 01:02:55</td>\n",
       "    </tr>\n",
       "    <tr>\n",
       "      <th>9</th>\n",
       "      <td>0.34</td>\n",
       "      <td>2023-10-22 01:02:44</td>\n",
       "    </tr>\n",
       "  </tbody>\n",
       "</table>\n",
       "</div>"
      ],
      "text/plain": [
       "   cpuUtil                 Time\n",
       "0     0.01  2023-10-22 01:02:18\n",
       "1     0.01  2023-10-22 01:02:52\n",
       "2     0.00  2023-10-22 01:02:20\n",
       "3     0.02  2023-10-22 01:02:59\n",
       "4     0.10  2023-10-22 01:02:21\n",
       "5     0.14  2023-10-22 01:02:49\n",
       "6     0.01  2023-10-22 01:02:52\n",
       "7     0.02  2023-10-22 01:03:07\n",
       "8     0.66  2023-10-22 01:02:55\n",
       "9     0.34  2023-10-22 01:02:44"
      ]
     },
     "execution_count": 236,
     "metadata": {},
     "output_type": "execute_result"
    }
   ],
   "source": [
    "df['Time'] = df['Time'].replace('T',' ',regex=True)\n",
    "df['Time'] = df['Time'].replace('Z','',regex=True)\n",
    "df"
   ]
  },
  {
   "cell_type": "code",
   "execution_count": 237,
   "metadata": {},
   "outputs": [],
   "source": [
    "df['Time'] = pd.to_datetime(df['Time'], format='%Y-%m-%d %H:%M:%S')\n"
   ]
  },
  {
   "cell_type": "code",
   "execution_count": 238,
   "metadata": {},
   "outputs": [],
   "source": [
    "import pandas as pd\n",
    "import matplotlib.pyplot as plot\n",
    "import seaborn as sns\n",
    "import joblib \n",
    "import numpy as np\n",
    "from sklearn.model_selection import train_test_split\n",
    "from sklearn.linear_model import LinearRegression\n",
    "from sklearn.linear_model import LogisticRegression\n",
    "from sklearn import preprocessing\n",
    "label_encoder = preprocessing.LabelEncoder()\n",
    "from sklearn.metrics import accuracy_score,classification_report,r2_score\n"
   ]
  },
  {
   "cell_type": "code",
   "execution_count": 239,
   "metadata": {},
   "outputs": [],
   "source": [
    "# for i in range(len(df['Time'])):\n",
    "#     df['Time'][i]=df['Time'][i].timestamp()"
   ]
  },
  {
   "cell_type": "code",
   "execution_count": 248,
   "metadata": {},
   "outputs": [
    {
     "data": {
      "text/plain": [
       "cpuUtil    float64\n",
       "Time       float64\n",
       "dtype: object"
      ]
     },
     "execution_count": 248,
     "metadata": {},
     "output_type": "execute_result"
    }
   ],
   "source": [
    "# df['Time'] = np.array(df['Time'], dtype=float)\n",
    "df['Time'] = df['Time'].values.astype(float)\n",
    "df.dtypes"
   ]
  },
  {
   "cell_type": "code",
   "execution_count": 241,
   "metadata": {},
   "outputs": [],
   "source": [
    "from datetime import datetime\n",
    "\n",
    "\n",
    "X=df[['Time']]\n",
    "# df['Time'] = label_encoder.fit_transform(df['Time'])\n",
    "Y =df['cpuUtil']\n"
   ]
  },
  {
   "cell_type": "code",
   "execution_count": 242,
   "metadata": {},
   "outputs": [
    {
     "data": {
      "text/html": [
       "<div>\n",
       "<style scoped>\n",
       "    .dataframe tbody tr th:only-of-type {\n",
       "        vertical-align: middle;\n",
       "    }\n",
       "\n",
       "    .dataframe tbody tr th {\n",
       "        vertical-align: top;\n",
       "    }\n",
       "\n",
       "    .dataframe thead th {\n",
       "        text-align: right;\n",
       "    }\n",
       "</style>\n",
       "<table border=\"1\" class=\"dataframe\">\n",
       "  <thead>\n",
       "    <tr style=\"text-align: right;\">\n",
       "      <th></th>\n",
       "      <th>Time</th>\n",
       "    </tr>\n",
       "  </thead>\n",
       "  <tbody>\n",
       "    <tr>\n",
       "      <th>7</th>\n",
       "      <td>1.697937e+18</td>\n",
       "    </tr>\n",
       "    <tr>\n",
       "      <th>2</th>\n",
       "      <td>1.697937e+18</td>\n",
       "    </tr>\n",
       "    <tr>\n",
       "      <th>3</th>\n",
       "      <td>1.697937e+18</td>\n",
       "    </tr>\n",
       "    <tr>\n",
       "      <th>6</th>\n",
       "      <td>1.697937e+18</td>\n",
       "    </tr>\n",
       "    <tr>\n",
       "      <th>9</th>\n",
       "      <td>1.697937e+18</td>\n",
       "    </tr>\n",
       "    <tr>\n",
       "      <th>8</th>\n",
       "      <td>1.697937e+18</td>\n",
       "    </tr>\n",
       "  </tbody>\n",
       "</table>\n",
       "</div>"
      ],
      "text/plain": [
       "           Time\n",
       "7  1.697937e+18\n",
       "2  1.697937e+18\n",
       "3  1.697937e+18\n",
       "6  1.697937e+18\n",
       "9  1.697937e+18\n",
       "8  1.697937e+18"
      ]
     },
     "execution_count": 242,
     "metadata": {},
     "output_type": "execute_result"
    }
   ],
   "source": [
    "X_train,X_test,Y_train,Y_test=train_test_split(X,Y,test_size=0.4,random_state=2,shuffle=True)\n",
    "X_train"
   ]
  },
  {
   "cell_type": "code",
   "execution_count": 243,
   "metadata": {},
   "outputs": [
    {
     "data": {
      "text/html": [
       "<style>#sk-container-id-9 {color: black;}#sk-container-id-9 pre{padding: 0;}#sk-container-id-9 div.sk-toggleable {background-color: white;}#sk-container-id-9 label.sk-toggleable__label {cursor: pointer;display: block;width: 100%;margin-bottom: 0;padding: 0.3em;box-sizing: border-box;text-align: center;}#sk-container-id-9 label.sk-toggleable__label-arrow:before {content: \"▸\";float: left;margin-right: 0.25em;color: #696969;}#sk-container-id-9 label.sk-toggleable__label-arrow:hover:before {color: black;}#sk-container-id-9 div.sk-estimator:hover label.sk-toggleable__label-arrow:before {color: black;}#sk-container-id-9 div.sk-toggleable__content {max-height: 0;max-width: 0;overflow: hidden;text-align: left;background-color: #f0f8ff;}#sk-container-id-9 div.sk-toggleable__content pre {margin: 0.2em;color: black;border-radius: 0.25em;background-color: #f0f8ff;}#sk-container-id-9 input.sk-toggleable__control:checked~div.sk-toggleable__content {max-height: 200px;max-width: 100%;overflow: auto;}#sk-container-id-9 input.sk-toggleable__control:checked~label.sk-toggleable__label-arrow:before {content: \"▾\";}#sk-container-id-9 div.sk-estimator input.sk-toggleable__control:checked~label.sk-toggleable__label {background-color: #d4ebff;}#sk-container-id-9 div.sk-label input.sk-toggleable__control:checked~label.sk-toggleable__label {background-color: #d4ebff;}#sk-container-id-9 input.sk-hidden--visually {border: 0;clip: rect(1px 1px 1px 1px);clip: rect(1px, 1px, 1px, 1px);height: 1px;margin: -1px;overflow: hidden;padding: 0;position: absolute;width: 1px;}#sk-container-id-9 div.sk-estimator {font-family: monospace;background-color: #f0f8ff;border: 1px dotted black;border-radius: 0.25em;box-sizing: border-box;margin-bottom: 0.5em;}#sk-container-id-9 div.sk-estimator:hover {background-color: #d4ebff;}#sk-container-id-9 div.sk-parallel-item::after {content: \"\";width: 100%;border-bottom: 1px solid gray;flex-grow: 1;}#sk-container-id-9 div.sk-label:hover label.sk-toggleable__label {background-color: #d4ebff;}#sk-container-id-9 div.sk-serial::before {content: \"\";position: absolute;border-left: 1px solid gray;box-sizing: border-box;top: 0;bottom: 0;left: 50%;z-index: 0;}#sk-container-id-9 div.sk-serial {display: flex;flex-direction: column;align-items: center;background-color: white;padding-right: 0.2em;padding-left: 0.2em;position: relative;}#sk-container-id-9 div.sk-item {position: relative;z-index: 1;}#sk-container-id-9 div.sk-parallel {display: flex;align-items: stretch;justify-content: center;background-color: white;position: relative;}#sk-container-id-9 div.sk-item::before, #sk-container-id-9 div.sk-parallel-item::before {content: \"\";position: absolute;border-left: 1px solid gray;box-sizing: border-box;top: 0;bottom: 0;left: 50%;z-index: -1;}#sk-container-id-9 div.sk-parallel-item {display: flex;flex-direction: column;z-index: 1;position: relative;background-color: white;}#sk-container-id-9 div.sk-parallel-item:first-child::after {align-self: flex-end;width: 50%;}#sk-container-id-9 div.sk-parallel-item:last-child::after {align-self: flex-start;width: 50%;}#sk-container-id-9 div.sk-parallel-item:only-child::after {width: 0;}#sk-container-id-9 div.sk-dashed-wrapped {border: 1px dashed gray;margin: 0 0.4em 0.5em 0.4em;box-sizing: border-box;padding-bottom: 0.4em;background-color: white;}#sk-container-id-9 div.sk-label label {font-family: monospace;font-weight: bold;display: inline-block;line-height: 1.2em;}#sk-container-id-9 div.sk-label-container {text-align: center;}#sk-container-id-9 div.sk-container {/* jupyter's `normalize.less` sets `[hidden] { display: none; }` but bootstrap.min.css set `[hidden] { display: none !important; }` so we also need the `!important` here to be able to override the default hidden behavior on the sphinx rendered scikit-learn.org. See: https://github.com/scikit-learn/scikit-learn/issues/21755 */display: inline-block !important;position: relative;}#sk-container-id-9 div.sk-text-repr-fallback {display: none;}</style><div id=\"sk-container-id-9\" class=\"sk-top-container\"><div class=\"sk-text-repr-fallback\"><pre>LinearRegression()</pre><b>In a Jupyter environment, please rerun this cell to show the HTML representation or trust the notebook. <br />On GitHub, the HTML representation is unable to render, please try loading this page with nbviewer.org.</b></div><div class=\"sk-container\" hidden><div class=\"sk-item\"><div class=\"sk-estimator sk-toggleable\"><input class=\"sk-toggleable__control sk-hidden--visually\" id=\"sk-estimator-id-9\" type=\"checkbox\" checked><label for=\"sk-estimator-id-9\" class=\"sk-toggleable__label sk-toggleable__label-arrow\">LinearRegression</label><div class=\"sk-toggleable__content\"><pre>LinearRegression()</pre></div></div></div></div></div>"
      ],
      "text/plain": [
       "LinearRegression()"
      ]
     },
     "execution_count": 243,
     "metadata": {},
     "output_type": "execute_result"
    }
   ],
   "source": [
    "reg=LinearRegression()\n",
    "reg.fit(X_train,Y_train)\n"
   ]
  },
  {
   "cell_type": "code",
   "execution_count": 244,
   "metadata": {},
   "outputs": [],
   "source": [
    "y_pred=reg.predict(X_test)"
   ]
  },
  {
   "cell_type": "code",
   "execution_count": 245,
   "metadata": {},
   "outputs": [
    {
     "name": "stdout",
     "output_type": "stream",
     "text": [
      "[0.12530934 0.17935883 0.17412823 0.12007874]\n"
     ]
    }
   ],
   "source": [
    "print(y_pred)"
   ]
  },
  {
   "cell_type": "code",
   "execution_count": 246,
   "metadata": {},
   "outputs": [
    {
     "name": "stdout",
     "output_type": "stream",
     "text": [
      "Accuracy: -230.27%\n"
     ]
    }
   ],
   "source": [
    "\n",
    "accuracy=r2_score(Y_test,y_pred)\n",
    "# report=classification_report(Y_test,y_pred)\n",
    "print(\"Accuracy: {:.2f}%\".format(accuracy*100))\n",
    "# print(report)"
   ]
  },
  {
   "cell_type": "code",
   "execution_count": 247,
   "metadata": {},
   "outputs": [
    {
     "name": "stderr",
     "output_type": "stream",
     "text": [
      "C:\\Users\\10726055\\AppData\\Local\\anaconda3\\Lib\\site-packages\\seaborn\\axisgrid.py:118: UserWarning: The figure layout has changed to tight\n",
      "  self._figure.tight_layout(*args, **kwargs)\n"
     ]
    },
    {
     "data": {
      "text/plain": [
       "<seaborn.axisgrid.FacetGrid at 0x2245574dcd0>"
      ]
     },
     "execution_count": 247,
     "metadata": {},
     "output_type": "execute_result"
    },
    {
     "data": {
      "image/png": "[encoded data removed]",
      "text/plain": [
       "<Figure size 500x500 with 1 Axes>"
      ]
     },
     "metadata": {},
     "output_type": "display_data"
    }
   ],
   "source": [
    "sns.lmplot(x='cpuUtil',y='Time',data=df)"
   ]
  },
  {
   "cell_type": "code",
   "execution_count": null,
   "metadata": {},
   "outputs": [],
   "source": []
  }
 ],
 "metadata": {
  "kernelspec": {
   "display_name": "Python 3 (ipykernel)",
   "language": "python",
   "name": "python3"
  },
  "language_info": {
   "codemirror_mode": {
    "name": "ipython",
    "version": 3
   },
   "file_extension": ".py",
   "mimetype": "text/x-python",
   "name": "python",
   "nbconvert_exporter": "python",
   "pygments_lexer": "ipython3",
   "version": "3.11.5"
  }
 },
 "nbformat": 4,
 "nbformat_minor": 2
}
